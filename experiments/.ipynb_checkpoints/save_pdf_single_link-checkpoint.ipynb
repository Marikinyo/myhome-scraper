{
 "cells": [
  {
   "cell_type": "code",
   "execution_count": 1,
   "metadata": {
    "ExecuteTime": {
     "end_time": "2025-09-01T19:45:16.545179Z",
     "start_time": "2025-09-01T19:45:03.222409Z"
    }
   },
   "outputs": [],
   "source": [
    "import asyncio\n",
    "from pyppeteer import launch\n",
    "\n",
    "async def save_pdf(url, filename):\n",
    "    browser = await launch(\n",
    "        headless=True,\n",
    "        executablePath=r\"C:\\Program Files\\Google\\Chrome\\Application\\chrome.exe\"  # adjust path if needed\n",
    "    )\n",
    "    page = await browser.newPage()\n",
    "\n",
    "    # Wait for full JS load\n",
    "    await page.goto(url, {\"waitUntil\": \"networkidle0\"})\n",
    "\n",
    "    # Extra wait just in case dynamic content is still rendering\n",
    "    await asyncio.sleep(5)\n",
    "\n",
    "    # Save as PDF\n",
    "    await page.pdf({\n",
    "        'path': filename,\n",
    "        'format': 'A4',\n",
    "        'printBackground': True\n",
    "    })\n",
    "\n",
    "    await browser.close()\n",
    "\n",
    "# Run in Jupyter\n",
    "await save_pdf(\n",
    "    \"https://www.myhome.ge/pr/22132519/iyideba-3-otaxiani-bina-saburtaloze/\",\n",
    "    \"test.pdf\"\n",
    ")\n"
   ]
  },
  {
   "cell_type": "code",
   "execution_count": null,
   "metadata": {},
   "outputs": [],
   "source": []
  }
 ],
 "metadata": {
  "kernelspec": {
   "display_name": "Python 3",
   "language": "python",
   "name": "python3"
  },
  "language_info": {
   "codemirror_mode": {
    "name": "ipython",
    "version": 3
   },
   "file_extension": ".py",
   "mimetype": "text/x-python",
   "name": "python",
   "nbconvert_exporter": "python",
   "pygments_lexer": "ipython3",
   "version": "3.8.5"
  },
  "toc": {
   "base_numbering": 1,
   "nav_menu": {},
   "number_sections": true,
   "sideBar": true,
   "skip_h1_title": false,
   "title_cell": "Table of Contents",
   "title_sidebar": "Contents",
   "toc_cell": false,
   "toc_position": {},
   "toc_section_display": true,
   "toc_window_display": false
  }
 },
 "nbformat": 4,
 "nbformat_minor": 4
}
