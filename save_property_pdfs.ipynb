{
 "cells": [
  {
   "cell_type": "code",
   "execution_count": 1,
   "metadata": {
    "ExecuteTime": {
     "end_time": "2025-09-02T07:00:42.728482Z",
     "start_time": "2025-09-02T07:00:42.135523Z"
    }
   },
   "outputs": [],
   "source": [
    "import os\n",
    "import pandas as pd\n",
    "import asyncio\n",
    "from pyppeteer import launch"
   ]
  },
  {
   "cell_type": "code",
   "execution_count": 2,
   "metadata": {
    "ExecuteTime": {
     "end_time": "2025-09-02T07:00:42.755037Z",
     "start_time": "2025-09-02T07:00:42.730477Z"
    }
   },
   "outputs": [],
   "source": [
    "df = pd.read_csv(\"myhome_listings_en.csv\", usecols=['URL'])"
   ]
  },
  {
   "cell_type": "code",
   "execution_count": 3,
   "metadata": {
    "ExecuteTime": {
     "end_time": "2025-09-02T07:00:42.771090Z",
     "start_time": "2025-09-02T07:00:42.759021Z"
    }
   },
   "outputs": [],
   "source": [
    "output_folder = \"property_pdfs\"\n",
    "os.makedirs(output_folder, exist_ok=True)  # create folder if it doesn't exist"
   ]
  },
  {
   "cell_type": "code",
   "execution_count": 4,
   "metadata": {
    "ExecuteTime": {
     "end_time": "2025-09-02T07:00:42.786669Z",
     "start_time": "2025-09-02T07:00:42.772093Z"
    }
   },
   "outputs": [],
   "source": [
    "async def save_pdf(url, filename):\n",
    "    browser = await launch(\n",
    "        headless=True,\n",
    "        executablePath=r\"C:\\Program Files\\Google\\Chrome\\Application\\chrome.exe\"  # adjust path if needed\n",
    "    )\n",
    "    page = await browser.newPage()\n",
    "\n",
    "    # Wait for full JS load\n",
    "    await page.goto(url, {\"waitUntil\": \"networkidle0\"})\n",
    "\n",
    "    # Extra wait just in case dynamic content is still rendering\n",
    "    await asyncio.sleep(5)\n",
    "\n",
    "    # Save as PDF\n",
    "    await page.pdf({\n",
    "        'path': filename,\n",
    "        'format': 'A4',\n",
    "        'printBackground': True\n",
    "    })\n",
    "\n",
    "    await browser.close()"
   ]
  },
  {
   "cell_type": "code",
   "execution_count": 5,
   "metadata": {
    "ExecuteTime": {
     "end_time": "2025-09-02T07:00:42.806589Z",
     "start_time": "2025-09-02T07:00:42.788662Z"
    }
   },
   "outputs": [],
   "source": [
    "# Function to save PDFs into the folder\n",
    "async def save_all_pdfs(df, rows=None):\n",
    "    \"\"\"\n",
    "    df: pandas DataFrame with a column 'URL'\n",
    "    rows: int or None, number of rows to process (None = all rows)\n",
    "    \"\"\"\n",
    "    urls_to_process = df['URL'][:rows] if rows is not None else df['URL']\n",
    "    \n",
    "    for url in urls_to_process:\n",
    "        property_id = url.split('/pr/')[1].split('/')[0]\n",
    "        filename = os.path.join(output_folder, f\"property_{property_id}.pdf\")\n",
    "        await save_pdf(url, filename)\n",
    "        print(f\"Saved {filename}\")"
   ]
  },
  {
   "cell_type": "code",
   "execution_count": null,
   "metadata": {},
   "outputs": [],
   "source": [
    "row_numbers = 2"
   ]
  },
  {
   "cell_type": "code",
   "execution_count": 6,
   "metadata": {
    "ExecuteTime": {
     "end_time": "2025-09-02T07:01:10.341365Z",
     "start_time": "2025-09-02T07:00:42.806589Z"
    }
   },
   "outputs": [
    {
     "name": "stdout",
     "output_type": "stream",
     "text": [
      "Saved property_pdfs\\property_22168145.pdf\n",
      "Saved property_pdfs\\property_22173963.pdf\n"
     ]
    }
   ],
   "source": [
    "await save_all_pdfs(df, rows=row_numbers)"
   ]
  }
 ],
 "metadata": {
  "kernelspec": {
   "display_name": "Python 3",
   "language": "python",
   "name": "python3"
  },
  "language_info": {
   "codemirror_mode": {
    "name": "ipython",
    "version": 3
   },
   "file_extension": ".py",
   "mimetype": "text/x-python",
   "name": "python",
   "nbconvert_exporter": "python",
   "pygments_lexer": "ipython3",
   "version": "3.8.5"
  },
  "toc": {
   "base_numbering": 1,
   "nav_menu": {},
   "number_sections": true,
   "sideBar": true,
   "skip_h1_title": false,
   "title_cell": "Table of Contents",
   "title_sidebar": "Contents",
   "toc_cell": false,
   "toc_position": {},
   "toc_section_display": true,
   "toc_window_display": false
  }
 },
 "nbformat": 4,
 "nbformat_minor": 4
}
